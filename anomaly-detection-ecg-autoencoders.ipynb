{
 "cells": [
  {
   "attachments": {},
   "cell_type": "markdown",
   "id": "134a7b39",
   "metadata": {
    "_cell_guid": "b1076dfc-b9ad-4769-8c92-a6c4dae69d19",
    "_uuid": "8f2839f25d086af736a60e9eeb907d3b93b6e0e5",
    "papermill": {
     "duration": 0.008276,
     "end_time": "2022-12-29T08:14:46.527683",
     "exception": false,
     "start_time": "2022-12-29T08:14:46.519407",
     "status": "completed"
    },
    "tags": []
   },
   "source": [
    "<h2> 🕵🏻 Anomaly Detection: ECG 🏥 | Autoencoders </h2>\n",
    "\n",
    "# Problem Statement: ECG\n",
    "\n",
    "**The objective of detecting anomalies in ECG signals consists of finding the irregular heart rates, heartbeats, and rhythms. To achieve this goal, an anomaly detection system must be able to find them on all heartbeat sequences; therefore, to obtain the essential metrics.**\n",
    "\n",
    "An electrocardiogram (ECG) is a simple test that can be used to check your heart's rhythm and electrical activity. Sensors attached to the skin are used to detect the electrical signals produced by your heart each time it beats.\n",
    "\n",
    "\n",
    "<img src=\"https://img.freepik.com/premium-photo/patient-monitor-showing-vital-signs-ecg-ekg-vector-illustration_42416-358.jpg?w=1060\" height=75% width=75% style=\"margin-left:12.5%;\">\n",
    "\n",
    "<h3>Autoencoders</h3>\n",
    "\n",
    "Autoencoder is an important application of Neural Networks or Deep Learning. It is widely used in dimensionality reduction, image compression, image denoising, and feature extraction. It is also applied in anomaly detection and has delivered superior results.\n",
    "\n",
    "This notebook uses autoencoders for detecting anomaly in ECG(electro cardiogram) readings. \n",
    "This is one of the very good practical application of autoencoders. \n",
    "\n",
    "[**Reference**](https://www.kaggle.com/code/devavratatripathy/ecg-anomaly-detection-using-autoencoders/notebook)\n"
   ]
  },
  {
   "cell_type": "code",
   "execution_count": 1,
   "id": "a1e0304e",
   "metadata": {
    "execution": {
     "iopub.execute_input": "2022-12-29T08:14:46.543761Z",
     "iopub.status.busy": "2022-12-29T08:14:46.543257Z",
     "iopub.status.idle": "2022-12-29T08:14:54.426647Z",
     "shell.execute_reply": "2022-12-29T08:14:54.425329Z"
    },
    "papermill": {
     "duration": 7.895515,
     "end_time": "2022-12-29T08:14:54.430067",
     "exception": false,
     "start_time": "2022-12-29T08:14:46.534552",
     "status": "completed"
    },
    "tags": []
   },
   "outputs": [],
   "source": [
    "import tensorflow as tf\n",
    "import matplotlib.pyplot as plt\n",
    "import numpy as np\n",
    "import pandas as pd\n",
    "\n",
    "from tensorflow.keras import layers, losses\n",
    "from sklearn.model_selection import train_test_split\n",
    "from tensorflow.keras.models import Model"
   ]
  },
  {
   "cell_type": "code",
   "execution_count": 2,
   "id": "66ff5e51",
   "metadata": {
    "execution": {
     "iopub.execute_input": "2022-12-29T08:14:54.447265Z",
     "iopub.status.busy": "2022-12-29T08:14:54.446470Z",
     "iopub.status.idle": "2022-12-29T08:14:54.902620Z",
     "shell.execute_reply": "2022-12-29T08:14:54.901698Z"
    },
    "papermill": {
     "duration": 0.469519,
     "end_time": "2022-12-29T08:14:54.906398",
     "exception": false,
     "start_time": "2022-12-29T08:14:54.436879",
     "status": "completed"
    },
    "tags": []
   },
   "outputs": [
    {
     "data": {
      "text/html": [
       "<div>\n",
       "<style scoped>\n",
       "    .dataframe tbody tr th:only-of-type {\n",
       "        vertical-align: middle;\n",
       "    }\n",
       "\n",
       "    .dataframe tbody tr th {\n",
       "        vertical-align: top;\n",
       "    }\n",
       "\n",
       "    .dataframe thead th {\n",
       "        text-align: right;\n",
       "    }\n",
       "</style>\n",
       "<table border=\"1\" class=\"dataframe\">\n",
       "  <thead>\n",
       "    <tr style=\"text-align: right;\">\n",
       "      <th></th>\n",
       "      <th>0</th>\n",
       "      <th>1</th>\n",
       "      <th>2</th>\n",
       "      <th>3</th>\n",
       "      <th>4</th>\n",
       "      <th>5</th>\n",
       "      <th>6</th>\n",
       "      <th>7</th>\n",
       "      <th>8</th>\n",
       "      <th>9</th>\n",
       "      <th>...</th>\n",
       "      <th>131</th>\n",
       "      <th>132</th>\n",
       "      <th>133</th>\n",
       "      <th>134</th>\n",
       "      <th>135</th>\n",
       "      <th>136</th>\n",
       "      <th>137</th>\n",
       "      <th>138</th>\n",
       "      <th>139</th>\n",
       "      <th>140</th>\n",
       "    </tr>\n",
       "  </thead>\n",
       "  <tbody>\n",
       "    <tr>\n",
       "      <th>0</th>\n",
       "      <td>-0.112522</td>\n",
       "      <td>-2.827204</td>\n",
       "      <td>-3.773897</td>\n",
       "      <td>-4.349751</td>\n",
       "      <td>-4.376041</td>\n",
       "      <td>-3.474986</td>\n",
       "      <td>-2.181408</td>\n",
       "      <td>-1.818286</td>\n",
       "      <td>-1.250522</td>\n",
       "      <td>-0.477492</td>\n",
       "      <td>...</td>\n",
       "      <td>0.792168</td>\n",
       "      <td>0.933541</td>\n",
       "      <td>0.796958</td>\n",
       "      <td>0.578621</td>\n",
       "      <td>0.257740</td>\n",
       "      <td>0.228077</td>\n",
       "      <td>0.123431</td>\n",
       "      <td>0.925286</td>\n",
       "      <td>0.193137</td>\n",
       "      <td>1.0</td>\n",
       "    </tr>\n",
       "    <tr>\n",
       "      <th>1</th>\n",
       "      <td>-1.100878</td>\n",
       "      <td>-3.996840</td>\n",
       "      <td>-4.285843</td>\n",
       "      <td>-4.506579</td>\n",
       "      <td>-4.022377</td>\n",
       "      <td>-3.234368</td>\n",
       "      <td>-1.566126</td>\n",
       "      <td>-0.992258</td>\n",
       "      <td>-0.754680</td>\n",
       "      <td>0.042321</td>\n",
       "      <td>...</td>\n",
       "      <td>0.538356</td>\n",
       "      <td>0.656881</td>\n",
       "      <td>0.787490</td>\n",
       "      <td>0.724046</td>\n",
       "      <td>0.555784</td>\n",
       "      <td>0.476333</td>\n",
       "      <td>0.773820</td>\n",
       "      <td>1.119621</td>\n",
       "      <td>-1.436250</td>\n",
       "      <td>1.0</td>\n",
       "    </tr>\n",
       "    <tr>\n",
       "      <th>2</th>\n",
       "      <td>-0.567088</td>\n",
       "      <td>-2.593450</td>\n",
       "      <td>-3.874230</td>\n",
       "      <td>-4.584095</td>\n",
       "      <td>-4.187449</td>\n",
       "      <td>-3.151462</td>\n",
       "      <td>-1.742940</td>\n",
       "      <td>-1.490659</td>\n",
       "      <td>-1.183580</td>\n",
       "      <td>-0.394229</td>\n",
       "      <td>...</td>\n",
       "      <td>0.886073</td>\n",
       "      <td>0.531452</td>\n",
       "      <td>0.311377</td>\n",
       "      <td>-0.021919</td>\n",
       "      <td>-0.713683</td>\n",
       "      <td>-0.532197</td>\n",
       "      <td>0.321097</td>\n",
       "      <td>0.904227</td>\n",
       "      <td>-0.421797</td>\n",
       "      <td>1.0</td>\n",
       "    </tr>\n",
       "    <tr>\n",
       "      <th>3</th>\n",
       "      <td>0.490473</td>\n",
       "      <td>-1.914407</td>\n",
       "      <td>-3.616364</td>\n",
       "      <td>-4.318823</td>\n",
       "      <td>-4.268016</td>\n",
       "      <td>-3.881110</td>\n",
       "      <td>-2.993280</td>\n",
       "      <td>-1.671131</td>\n",
       "      <td>-1.333884</td>\n",
       "      <td>-0.965629</td>\n",
       "      <td>...</td>\n",
       "      <td>0.350816</td>\n",
       "      <td>0.499111</td>\n",
       "      <td>0.600345</td>\n",
       "      <td>0.842069</td>\n",
       "      <td>0.952074</td>\n",
       "      <td>0.990133</td>\n",
       "      <td>1.086798</td>\n",
       "      <td>1.403011</td>\n",
       "      <td>-0.383564</td>\n",
       "      <td>1.0</td>\n",
       "    </tr>\n",
       "    <tr>\n",
       "      <th>4</th>\n",
       "      <td>0.800232</td>\n",
       "      <td>-0.874252</td>\n",
       "      <td>-2.384761</td>\n",
       "      <td>-3.973292</td>\n",
       "      <td>-4.338224</td>\n",
       "      <td>-3.802422</td>\n",
       "      <td>-2.534510</td>\n",
       "      <td>-1.783423</td>\n",
       "      <td>-1.594450</td>\n",
       "      <td>-0.753199</td>\n",
       "      <td>...</td>\n",
       "      <td>1.148884</td>\n",
       "      <td>0.958434</td>\n",
       "      <td>1.059025</td>\n",
       "      <td>1.371682</td>\n",
       "      <td>1.277392</td>\n",
       "      <td>0.960304</td>\n",
       "      <td>0.971020</td>\n",
       "      <td>1.614392</td>\n",
       "      <td>1.421456</td>\n",
       "      <td>1.0</td>\n",
       "    </tr>\n",
       "  </tbody>\n",
       "</table>\n",
       "<p>5 rows × 141 columns</p>\n",
       "</div>"
      ],
      "text/plain": [
       "        0         1         2         3         4         5         6    \\\n",
       "0 -0.112522 -2.827204 -3.773897 -4.349751 -4.376041 -3.474986 -2.181408   \n",
       "1 -1.100878 -3.996840 -4.285843 -4.506579 -4.022377 -3.234368 -1.566126   \n",
       "2 -0.567088 -2.593450 -3.874230 -4.584095 -4.187449 -3.151462 -1.742940   \n",
       "3  0.490473 -1.914407 -3.616364 -4.318823 -4.268016 -3.881110 -2.993280   \n",
       "4  0.800232 -0.874252 -2.384761 -3.973292 -4.338224 -3.802422 -2.534510   \n",
       "\n",
       "        7         8         9    ...       131       132       133       134  \\\n",
       "0 -1.818286 -1.250522 -0.477492  ...  0.792168  0.933541  0.796958  0.578621   \n",
       "1 -0.992258 -0.754680  0.042321  ...  0.538356  0.656881  0.787490  0.724046   \n",
       "2 -1.490659 -1.183580 -0.394229  ...  0.886073  0.531452  0.311377 -0.021919   \n",
       "3 -1.671131 -1.333884 -0.965629  ...  0.350816  0.499111  0.600345  0.842069   \n",
       "4 -1.783423 -1.594450 -0.753199  ...  1.148884  0.958434  1.059025  1.371682   \n",
       "\n",
       "        135       136       137       138       139  140  \n",
       "0  0.257740  0.228077  0.123431  0.925286  0.193137  1.0  \n",
       "1  0.555784  0.476333  0.773820  1.119621 -1.436250  1.0  \n",
       "2 -0.713683 -0.532197  0.321097  0.904227 -0.421797  1.0  \n",
       "3  0.952074  0.990133  1.086798  1.403011 -0.383564  1.0  \n",
       "4  1.277392  0.960304  0.971020  1.614392  1.421456  1.0  \n",
       "\n",
       "[5 rows x 141 columns]"
      ]
     },
     "execution_count": 2,
     "metadata": {},
     "output_type": "execute_result"
    }
   ],
   "source": [
    "df = pd.read_csv('http://storage.googleapis.com/download.tensorflow.org/data/ecg.csv', header=None)\n",
    "df.head()"
   ]
  },
  {
   "cell_type": "markdown",
   "id": "a6e27e38",
   "metadata": {
    "papermill": {
     "duration": 0.006858,
     "end_time": "2022-12-29T08:14:54.921078",
     "exception": false,
     "start_time": "2022-12-29T08:14:54.914220",
     "status": "completed"
    },
    "tags": []
   },
   "source": [
    "👉🏻 **Note:** The dataset has 140 columns which represents the ECG readings and a labels column which has been encoded to **0 or 1** showing whether the ECG is **abnormal or normal**."
   ]
  },
  {
   "cell_type": "code",
   "execution_count": 3,
   "id": "a51e2b53",
   "metadata": {
    "execution": {
     "iopub.execute_input": "2022-12-29T08:14:54.939356Z",
     "iopub.status.busy": "2022-12-29T08:14:54.938120Z",
     "iopub.status.idle": "2022-12-29T08:14:54.947974Z",
     "shell.execute_reply": "2022-12-29T08:14:54.946809Z"
    },
    "papermill": {
     "duration": 0.022784,
     "end_time": "2022-12-29T08:14:54.951292",
     "exception": false,
     "start_time": "2022-12-29T08:14:54.928508",
     "status": "completed"
    },
    "tags": []
   },
   "outputs": [
    {
     "data": {
      "text/plain": [
       "array([1., 1., 1., ..., 0., 0., 0.])"
      ]
     },
     "execution_count": 3,
     "metadata": {},
     "output_type": "execute_result"
    }
   ],
   "source": [
    "#separate the data and labels so that it will be easy for understanding\n",
    "data = df.iloc[:,:-1].values\n",
    "labels = df.iloc[:,-1].values\n",
    "labels"
   ]
  },
  {
   "cell_type": "code",
   "execution_count": 4,
   "id": "9782c20c",
   "metadata": {
    "execution": {
     "iopub.execute_input": "2022-12-29T08:14:54.968791Z",
     "iopub.status.busy": "2022-12-29T08:14:54.968308Z",
     "iopub.status.idle": "2022-12-29T08:14:54.981618Z",
     "shell.execute_reply": "2022-12-29T08:14:54.980412Z"
    },
    "papermill": {
     "duration": 0.025828,
     "end_time": "2022-12-29T08:14:54.985263",
     "exception": false,
     "start_time": "2022-12-29T08:14:54.959435",
     "status": "completed"
    },
    "tags": []
   },
   "outputs": [],
   "source": [
    "train_data, test_data, train_labels, test_labels = train_test_split(data, labels, test_size = 0.2, random_state = 21)"
   ]
  },
  {
   "cell_type": "markdown",
   "id": "d334402a",
   "metadata": {
    "papermill": {
     "duration": 0.006893,
     "end_time": "2022-12-29T08:14:54.999897",
     "exception": false,
     "start_time": "2022-12-29T08:14:54.993004",
     "status": "completed"
    },
    "tags": []
   },
   "source": [
    "<h3>Normalizing the data to the range [0-1]</h3>\n",
    "\n",
    "<img src=\"https://cdn.wallstreetmojo.com/wp-content/uploads/2019/05/Normalization-Formula.jpg\" height=\"55%\" width=\"55%\" style=\"margin-left: 22.5%;\">"
   ]
  },
  {
   "cell_type": "code",
   "execution_count": 5,
   "id": "4d59f095",
   "metadata": {
    "execution": {
     "iopub.execute_input": "2022-12-29T08:14:55.018748Z",
     "iopub.status.busy": "2022-12-29T08:14:55.017663Z",
     "iopub.status.idle": "2022-12-29T08:14:55.104915Z",
     "shell.execute_reply": "2022-12-29T08:14:55.103654Z"
    },
    "papermill": {
     "duration": 0.100941,
     "end_time": "2022-12-29T08:14:55.108072",
     "exception": false,
     "start_time": "2022-12-29T08:14:55.007131",
     "status": "completed"
    },
    "tags": []
   },
   "outputs": [
    {
     "name": "stderr",
     "output_type": "stream",
     "text": [
      "2022-12-29 08:14:55.037156: I tensorflow/core/common_runtime/process_util.cc:146] Creating new thread pool with default inter op setting: 2. Tune using inter_op_parallelism_threads for best performance.\n"
     ]
    }
   ],
   "source": [
    "#Now lets Normalize the data\n",
    "#First we will calculate the maximum and minimum value from the training set \n",
    "min = tf.reduce_min(train_data)\n",
    "max = tf.reduce_max(train_data)\n",
    "\n",
    "#Now we will use the formula (data - min)/(max - min)\n",
    "train_data = (train_data - min)/(max - min)\n",
    "test_data = (test_data - min)/(max - min)\n",
    "\n",
    "#I have converted the data into float\n",
    "train_data = tf.cast(train_data, dtype=tf.float32)\n",
    "test_data = tf.cast(test_data, dtype=tf.float32)"
   ]
  },
  {
   "cell_type": "code",
   "execution_count": 6,
   "id": "87e98ebd",
   "metadata": {
    "execution": {
     "iopub.execute_input": "2022-12-29T08:14:55.125188Z",
     "iopub.status.busy": "2022-12-29T08:14:55.124675Z",
     "iopub.status.idle": "2022-12-29T08:14:55.177066Z",
     "shell.execute_reply": "2022-12-29T08:14:55.175817Z"
    },
    "papermill": {
     "duration": 0.06473,
     "end_time": "2022-12-29T08:14:55.180021",
     "exception": false,
     "start_time": "2022-12-29T08:14:55.115291",
     "status": "completed"
    },
    "tags": []
   },
   "outputs": [
    {
     "name": "stdout",
     "output_type": "stream",
     "text": [
      "tf.Tensor(\n",
      "[[0.57030463 0.46561658 0.29058117 ... 0.48504233 0.4233502  0.47598344]\n",
      " [0.48320588 0.28246963 0.16471253 ... 0.567567   0.4677294  0.2692329 ]\n",
      " [0.48144642 0.35151404 0.25972766 ... 0.5479421  0.5077544  0.54298663]\n",
      " ...\n",
      " [0.41039047 0.24164985 0.13120876 ... 0.5277313  0.5654091  0.5023885 ]\n",
      " [0.5397748  0.4140786  0.28101394 ... 0.51266515 0.43706053 0.4426865 ]\n",
      " [0.29639772 0.15988176 0.18883787 ... 0.53766966 0.545786   0.40826708]], shape=(2359, 140), dtype=float32)\n"
     ]
    }
   ],
   "source": [
    "#The labels are either 0 or 1, so I will convert them into boolean(true or false) \n",
    "train_labels = train_labels.astype(bool)\n",
    "test_labels = test_labels.astype(bool)\n",
    "\n",
    "#Now let's separate the data for normal ECG from that of abnormal ones\n",
    "#Normal ECG data\n",
    "n_train_data = train_data[train_labels]\n",
    "n_test_data = test_data[test_labels]\n",
    "\n",
    "#Abnormal ECG data\n",
    "an_train_data = train_data[~train_labels]\n",
    "an_test_data = test_data[~test_labels]\n",
    "\n",
    "print(n_train_data)"
   ]
  },
  {
   "cell_type": "code",
   "execution_count": 7,
   "id": "21e36c98",
   "metadata": {
    "execution": {
     "iopub.execute_input": "2022-12-29T08:14:55.197553Z",
     "iopub.status.busy": "2022-12-29T08:14:55.197097Z",
     "iopub.status.idle": "2022-12-29T08:14:55.413949Z",
     "shell.execute_reply": "2022-12-29T08:14:55.412699Z"
    },
    "papermill": {
     "duration": 0.229678,
     "end_time": "2022-12-29T08:14:55.417069",
     "exception": false,
     "start_time": "2022-12-29T08:14:55.187391",
     "status": "completed"
    },
    "tags": []
   },
   "outputs": [
    {
     "data": {
      "image/png": "[encoded data removed]",
      "text/plain": [
       "<Figure size 432x288 with 1 Axes>"
      ]
     },
     "metadata": {
      "needs_background": "light"
     },
     "output_type": "display_data"
    }
   ],
   "source": [
    "#Lets plot a normal ECG\n",
    "plt.plot(np.arange(140), n_train_data[0])\n",
    "plt.grid()\n",
    "plt.title('Normal ECG')\n",
    "plt.show()"
   ]
  },
  {
   "cell_type": "code",
   "execution_count": 8,
   "id": "e039c924",
   "metadata": {
    "execution": {
     "iopub.execute_input": "2022-12-29T08:14:55.434981Z",
     "iopub.status.busy": "2022-12-29T08:14:55.434206Z",
     "iopub.status.idle": "2022-12-29T08:14:55.633070Z",
     "shell.execute_reply": "2022-12-29T08:14:55.631830Z"
    },
    "papermill": {
     "duration": 0.21087,
     "end_time": "2022-12-29T08:14:55.635793",
     "exception": false,
     "start_time": "2022-12-29T08:14:55.424923",
     "status": "completed"
    },
    "tags": []
   },
   "outputs": [
    {
     "data": {
      "image/png": "[encoded data removed]",
      "text/plain": [
       "<Figure size 432x288 with 1 Axes>"
      ]
     },
     "metadata": {
      "needs_background": "light"
     },
     "output_type": "display_data"
    }
   ],
   "source": [
    "#Lets plot one from abnormal ECG\n",
    "plt.plot(np.arange(140), an_train_data[0])\n",
    "plt.grid()\n",
    "plt.title('Abnormal ECG')\n",
    "plt.show()"
   ]
  },
  {
   "cell_type": "markdown",
   "id": "fa314e97",
   "metadata": {
    "papermill": {
     "duration": 0.007963,
     "end_time": "2022-12-29T08:14:55.652039",
     "exception": false,
     "start_time": "2022-12-29T08:14:55.644076",
     "status": "completed"
    },
    "tags": []
   },
   "source": [
    "# Autoencoders : Analysis\n",
    "\n",
    "Autoencoders are a specific type of feedforward neural network.\n",
    "\n",
    "It consists of two parts:-\n",
    "1.Encoder\n",
    "2.Decoder\n",
    "\n",
    "<img src=\"https://miro.medium.com/max/1400/1*44eDEuZBEsmG_TCAKRI3Kw@2x.png\" height=80% width=80% style=\"margin-left:10%\">\n",
    "\n",
    "<h3>So how the model will detect anomaly ?</h3>\n",
    "\n",
    "We will create an encoder and a decoder using an ANN architecture. We are going to provide the ECG data as input and the model will try to reconstruct it. The error between the original data and reconstructed output will be called the **reconstruction error**. Based on this recostruction error we are going to classify an ECG as anomalous or not.In order to do this we are going to train the model only on the normal ECG data but it will be tested on the full test set, so that when an abnormal ECG is provided in the input the autoencoder will try to reconstruct it but since it has been only trained on normal ECG data the output will have a larger reconstruction error. We will also define a minimum threshold for the error i.e. if the reconstruction error is above the threshold then it will be categorised as anomalous. \n",
    "\n",
    "\n",
    "For example, given an image of a handwritten digit, an autoencoder first encodes the image into a lower dimensional representation, then decodes it back to an image. It learns to compress the data while minimizing the reconstruction error. \n",
    "\n",
    "<img src=\"https://static.packt-cdn.com/products/9781789344158/graphics/assets/e8c5f6fa-9522-4fc2-b1a8-f10d4e451148.png\" height=80% width=80% style=\"margin-left:10%\">\n",
    "\n",
    "👉🏻 *In simple words, AutoEncoder is an unsupervised Artificial Neural Network that attempts to encode the data by compressing it into the lower dimensions (bottleneck layer or code) and then decoding the data to reconstruct the original input. The bottleneck layer (or code) holds the compressed representation of the input data.* "
   ]
  },
  {
   "cell_type": "code",
   "execution_count": 9,
   "id": "61a0f113",
   "metadata": {
    "execution": {
     "iopub.execute_input": "2022-12-29T08:14:55.671039Z",
     "iopub.status.busy": "2022-12-29T08:14:55.670206Z",
     "iopub.status.idle": "2022-12-29T08:14:55.679159Z",
     "shell.execute_reply": "2022-12-29T08:14:55.678271Z"
    },
    "papermill": {
     "duration": 0.021784,
     "end_time": "2022-12-29T08:14:55.681894",
     "exception": false,
     "start_time": "2022-12-29T08:14:55.660110",
     "status": "completed"
    },
    "tags": []
   },
   "outputs": [],
   "source": [
    "#Now let's define the model!\n",
    "#Here I have used the Model Subclassing API (but we can also use the Sequential API)\n",
    "#The model has 2 parts : 1. Encoder and 2. Decoder\n",
    " \n",
    "class detector(Model):\n",
    "  def __init__(self):\n",
    "    super(detector, self).__init__()\n",
    "    self.encoder = tf.keras.Sequential([\n",
    "                                        layers.Dense(32, activation='relu'),\n",
    "                                        layers.Dense(16, activation='relu'),\n",
    "                                        layers.Dense(8, activation='relu')\n",
    "    ])\n",
    "    self.decoder = tf.keras.Sequential([\n",
    "                                        layers.Dense(16, activation='relu'),\n",
    "                                        layers.Dense(32, activation='relu'),\n",
    "                                        layers.Dense(140, activation='sigmoid')\n",
    "    ])\n",
    "\n",
    "  def call(self, x):\n",
    "    encoded = self.encoder(x)\n",
    "    decoded = self.decoder(encoded)\n",
    "    return decoded"
   ]
  },
  {
   "cell_type": "markdown",
   "id": "74391e76",
   "metadata": {
    "papermill": {
     "duration": 0.007543,
     "end_time": "2022-12-29T08:14:55.697374",
     "exception": false,
     "start_time": "2022-12-29T08:14:55.689831",
     "status": "completed"
    },
    "tags": []
   },
   "source": [
    "👉🏻 **NOTE**: See that in fit() both the data are same i.e. n_train_data, the reason is that we will be comparing the original ECG with the reconstructed one to calculate the reconstruction error.\n",
    "Autoencoders are unsupervised learning models but here we are training them using supervised method so its more like they are used as **self-supervised**.  "
   ]
  },
  {
   "cell_type": "code",
   "execution_count": 10,
   "id": "1bb14721",
   "metadata": {
    "execution": {
     "iopub.execute_input": "2022-12-29T08:14:55.715342Z",
     "iopub.status.busy": "2022-12-29T08:14:55.714512Z",
     "iopub.status.idle": "2022-12-29T08:14:58.350540Z",
     "shell.execute_reply": "2022-12-29T08:14:58.349287Z"
    },
    "papermill": {
     "duration": 2.648169,
     "end_time": "2022-12-29T08:14:58.353307",
     "exception": false,
     "start_time": "2022-12-29T08:14:55.705138",
     "status": "completed"
    },
    "tags": []
   },
   "outputs": [
    {
     "name": "stderr",
     "output_type": "stream",
     "text": [
      "2022-12-29 08:14:55.849338: I tensorflow/compiler/mlir/mlir_graph_optimization_pass.cc:185] None of the MLIR Optimization Passes are enabled (registered 2)\n"
     ]
    },
    {
     "name": "stdout",
     "output_type": "stream",
     "text": [
      "Epoch 1/20\n",
      "5/5 [==============================] - 1s 68ms/step - loss: 0.0581 - val_loss: 0.0572\n",
      "Epoch 2/20\n",
      "5/5 [==============================] - 0s 17ms/step - loss: 0.0568 - val_loss: 0.0558\n",
      "Epoch 3/20\n",
      "5/5 [==============================] - 0s 16ms/step - loss: 0.0552 - val_loss: 0.0538\n",
      "Epoch 4/20\n",
      "5/5 [==============================] - 0s 17ms/step - loss: 0.0529 - val_loss: 0.0511\n",
      "Epoch 5/20\n",
      "5/5 [==============================] - 0s 17ms/step - loss: 0.0501 - val_loss: 0.0480\n",
      "Epoch 6/20\n",
      "5/5 [==============================] - 0s 16ms/step - loss: 0.0469 - val_loss: 0.0447\n",
      "Epoch 7/20\n",
      "5/5 [==============================] - 0s 16ms/step - loss: 0.0435 - val_loss: 0.0412\n",
      "Epoch 8/20\n",
      "5/5 [==============================] - 0s 17ms/step - loss: 0.0400 - val_loss: 0.0378\n",
      "Epoch 9/20\n",
      "5/5 [==============================] - 0s 16ms/step - loss: 0.0368 - val_loss: 0.0347\n",
      "Epoch 10/20\n",
      "5/5 [==============================] - 0s 15ms/step - loss: 0.0338 - val_loss: 0.0319\n",
      "Epoch 11/20\n",
      "5/5 [==============================] - 0s 15ms/step - loss: 0.0312 - val_loss: 0.0297\n",
      "Epoch 12/20\n",
      "5/5 [==============================] - 0s 14ms/step - loss: 0.0292 - val_loss: 0.0279\n",
      "Epoch 13/20\n",
      "5/5 [==============================] - 0s 15ms/step - loss: 0.0275 - val_loss: 0.0265\n",
      "Epoch 14/20\n",
      "5/5 [==============================] - 0s 15ms/step - loss: 0.0263 - val_loss: 0.0254\n",
      "Epoch 15/20\n",
      "5/5 [==============================] - 0s 15ms/step - loss: 0.0253 - val_loss: 0.0245\n",
      "Epoch 16/20\n",
      "5/5 [==============================] - 0s 14ms/step - loss: 0.0245 - val_loss: 0.0238\n",
      "Epoch 17/20\n",
      "5/5 [==============================] - 0s 14ms/step - loss: 0.0238 - val_loss: 0.0232\n",
      "Epoch 18/20\n",
      "5/5 [==============================] - 0s 14ms/step - loss: 0.0233 - val_loss: 0.0227\n",
      "Epoch 19/20\n",
      "5/5 [==============================] - 0s 15ms/step - loss: 0.0228 - val_loss: 0.0222\n",
      "Epoch 20/20\n",
      "5/5 [==============================] - 0s 15ms/step - loss: 0.0223 - val_loss: 0.0217\n"
     ]
    },
    {
     "data": {
      "text/plain": [
       "<keras.callbacks.History at 0x7f4b708c5bd0>"
      ]
     },
     "execution_count": 10,
     "metadata": {},
     "output_type": "execute_result"
    }
   ],
   "source": [
    "#Let's compile and train the model!!\n",
    "autoencoder = detector()\n",
    "autoencoder.compile(optimizer='adam', loss='mae')\n",
    "autoencoder.fit(n_train_data, n_train_data, epochs = 20, batch_size=512, validation_data=(n_test_data, n_test_data))"
   ]
  },
  {
   "cell_type": "code",
   "execution_count": 11,
   "id": "480ae5a0",
   "metadata": {
    "execution": {
     "iopub.execute_input": "2022-12-29T08:14:58.377025Z",
     "iopub.status.busy": "2022-12-29T08:14:58.376547Z",
     "iopub.status.idle": "2022-12-29T08:14:58.895291Z",
     "shell.execute_reply": "2022-12-29T08:14:58.894139Z"
    },
    "papermill": {
     "duration": 0.533357,
     "end_time": "2022-12-29T08:14:58.897719",
     "exception": false,
     "start_time": "2022-12-29T08:14:58.364362",
     "status": "completed"
    },
    "tags": []
   },
   "outputs": [
    {
     "data": {
      "image/png": "[encoded data removed]",
      "text/plain": [
       "<Figure size 432x288 with 1 Axes>"
      ]
     },
     "metadata": {
      "needs_background": "light"
     },
     "output_type": "display_data"
    },
    {
     "data": {
      "image/png": "[encoded data removed]",
      "text/plain": [
       "<Figure size 432x288 with 1 Axes>"
      ]
     },
     "metadata": {
      "needs_background": "light"
     },
     "output_type": "display_data"
    }
   ],
   "source": [
    "#Now let's define a function in order to plot the original ECG and reconstructed ones and also show the error\n",
    "def plot(data, n):\n",
    "  enc_img = autoencoder.encoder(data)\n",
    "  dec_img = autoencoder.decoder(enc_img)\n",
    "  plt.plot(data[n], 'b')\n",
    "  plt.plot(dec_img[n], 'r')\n",
    "  plt.fill_between(np.arange(140), data[n], dec_img[n], color = 'lightcoral')\n",
    "  plt.legend(labels=['Input', 'Reconstruction', 'Error'])\n",
    "  plt.show()\n",
    "\n",
    "plot(n_test_data, 0)\n",
    "plot(an_test_data, 0)"
   ]
  },
  {
   "cell_type": "markdown",
   "id": "e790c4b2",
   "metadata": {
    "papermill": {
     "duration": 0.011864,
     "end_time": "2022-12-29T08:14:58.921463",
     "exception": false,
     "start_time": "2022-12-29T08:14:58.909599",
     "status": "completed"
    },
    "tags": []
   },
   "source": [
    "👉🏻 As I mentioned earlier an ECG is anomalous if it is greater than a threshold. We can set the threshold in any way we want. Here I am going to set it to one standard deviation from the mean of normal training data."
   ]
  },
  {
   "cell_type": "code",
   "execution_count": 12,
   "id": "1b6cd025",
   "metadata": {
    "execution": {
     "iopub.execute_input": "2022-12-29T08:14:58.946486Z",
     "iopub.status.busy": "2022-12-29T08:14:58.946023Z",
     "iopub.status.idle": "2022-12-29T08:14:58.964442Z",
     "shell.execute_reply": "2022-12-29T08:14:58.963516Z"
    },
    "papermill": {
     "duration": 0.034228,
     "end_time": "2022-12-29T08:14:58.967319",
     "exception": false,
     "start_time": "2022-12-29T08:14:58.933091",
     "status": "completed"
    },
    "tags": []
   },
   "outputs": [
    {
     "name": "stdout",
     "output_type": "stream",
     "text": [
      "0.034047604\n"
     ]
    }
   ],
   "source": [
    "reconstructed = autoencoder(n_train_data)\n",
    "train_loss = losses.mae(reconstructed, n_train_data)\n",
    "t = np.mean(train_loss) + np.std(train_loss)\n",
    "\n",
    "def prediction(model, data, threshold):\n",
    "  rec = model(data)\n",
    "  loss = losses.mae(rec, data)\n",
    "  return tf.math.less(loss, threshold)\n",
    "print(t)"
   ]
  },
  {
   "cell_type": "code",
   "execution_count": 13,
   "id": "921e34b8",
   "metadata": {
    "execution": {
     "iopub.execute_input": "2022-12-29T08:14:58.995348Z",
     "iopub.status.busy": "2022-12-29T08:14:58.994692Z",
     "iopub.status.idle": "2022-12-29T08:14:59.012772Z",
     "shell.execute_reply": "2022-12-29T08:14:59.011586Z"
    },
    "papermill": {
     "duration": 0.034725,
     "end_time": "2022-12-29T08:14:59.015359",
     "exception": false,
     "start_time": "2022-12-29T08:14:58.980634",
     "status": "completed"
    },
    "tags": []
   },
   "outputs": [
    {
     "name": "stdout",
     "output_type": "stream",
     "text": [
      "tf.Tensor(\n",
      "[False  True  True False  True  True  True False  True  True  True  True\n",
      "  True  True  True  True  True  True  True  True  True  True  True  True\n",
      "  True  True  True  True  True  True  True  True  True  True False  True\n",
      "  True  True  True False  True  True  True  True  True  True  True  True\n",
      "  True  True  True  True False  True  True  True  True  True  True  True\n",
      "  True  True  True  True False  True  True  True  True  True  True  True\n",
      "  True  True  True  True  True  True  True False  True  True  True  True\n",
      " False  True  True  True  True  True  True  True  True  True  True  True\n",
      "  True  True  True  True  True  True False  True  True  True  True  True\n",
      "  True  True  True  True  True  True  True  True  True  True  True  True\n",
      "  True False  True  True  True  True  True  True  True  True  True  True\n",
      "  True  True  True  True  True  True  True False  True  True  True  True\n",
      "  True  True  True  True  True  True  True  True  True  True  True  True\n",
      "  True  True  True  True  True  True  True  True  True  True  True  True\n",
      "  True  True  True  True  True  True  True  True False  True  True  True\n",
      "  True  True  True  True  True  True  True  True  True  True  True  True\n",
      "  True  True  True  True  True  True  True  True  True  True  True  True\n",
      "  True  True  True  True  True  True  True False  True  True  True False\n",
      "  True  True  True  True False  True  True  True  True  True  True  True\n",
      "  True  True  True  True  True  True  True  True  True  True False False\n",
      "  True  True  True  True  True  True  True  True  True  True  True  True\n",
      "  True  True False  True  True  True  True  True  True  True  True  True\n",
      "  True  True  True  True  True False  True  True  True  True  True  True\n",
      "  True  True  True  True  True  True  True  True  True  True  True  True\n",
      "  True  True False False  True  True  True  True  True  True  True  True\n",
      "  True  True  True False  True  True  True  True  True  True False  True\n",
      "  True  True  True  True  True  True  True  True  True  True  True  True\n",
      "  True  True  True  True  True  True False  True  True False  True  True\n",
      " False  True  True  True  True  True  True  True  True  True  True  True\n",
      "  True  True  True  True  True  True  True  True  True  True  True  True\n",
      "  True False  True False  True  True  True  True  True  True  True  True\n",
      "  True  True  True  True False  True  True False  True  True  True  True\n",
      "  True  True  True  True  True  True  True  True  True  True  True  True\n",
      "  True  True  True  True  True  True  True  True  True  True  True  True\n",
      "  True  True  True  True  True  True  True  True  True  True  True  True\n",
      "  True  True  True  True  True  True  True  True  True  True  True  True\n",
      "  True  True  True  True  True  True  True  True  True  True  True False\n",
      " False  True  True  True False  True  True  True  True  True  True  True\n",
      "  True  True  True False False False  True False False  True False  True\n",
      " False False  True  True  True  True  True  True  True  True  True  True\n",
      "  True  True  True  True  True  True  True  True  True  True  True  True\n",
      "  True  True  True False  True  True  True  True  True  True  True  True\n",
      "  True  True  True  True  True  True  True  True  True  True  True  True\n",
      "  True False  True False  True  True  True False False False  True False\n",
      "  True  True  True  True  True  True  True  True  True  True  True  True\n",
      "  True  True  True  True  True  True  True  True  True  True  True  True\n",
      "  True False  True  True  True False  True  True], shape=(560,), dtype=bool)\n"
     ]
    }
   ],
   "source": [
    "pred = prediction(autoencoder, n_test_data, t)\n",
    "print(pred)"
   ]
  },
  {
   "cell_type": "code",
   "execution_count": 14,
   "id": "a0788b60",
   "metadata": {
    "execution": {
     "iopub.execute_input": "2022-12-29T08:14:59.042484Z",
     "iopub.status.busy": "2022-12-29T08:14:59.041183Z",
     "iopub.status.idle": "2022-12-29T08:14:59.773374Z",
     "shell.execute_reply": "2022-12-29T08:14:59.772354Z"
    },
    "papermill": {
     "duration": 0.748175,
     "end_time": "2022-12-29T08:14:59.775771",
     "exception": false,
     "start_time": "2022-12-29T08:14:59.027596",
     "status": "completed"
    },
    "tags": []
   },
   "outputs": [
    {
     "data": {
      "image/png": "[encoded data removed]",
      "text/plain": [
       "<Figure size 432x288 with 1 Axes>"
      ]
     },
     "metadata": {
      "needs_background": "light"
     },
     "output_type": "display_data"
    },
    {
     "data": {
      "image/png": "[encoded data removed]",
      "text/plain": [
       "<Figure size 432x288 with 1 Axes>"
      ]
     },
     "metadata": {
      "needs_background": "light"
     },
     "output_type": "display_data"
    },
    {
     "data": {
      "image/png": "[encoded data removed]",
      "text/plain": [
       "<Figure size 432x288 with 1 Axes>"
      ]
     },
     "metadata": {
      "needs_background": "light"
     },
     "output_type": "display_data"
    }
   ],
   "source": [
    "#Lets see some more result visually !!\n",
    "plot(n_test_data, 0)\n",
    "plot(n_test_data, 1)\n",
    "plot(n_test_data, 3)"
   ]
  },
  {
   "cell_type": "markdown",
   "id": "1383f4e3",
   "metadata": {
    "papermill": {
     "duration": 0.01471,
     "end_time": "2022-12-29T08:14:59.804557",
     "exception": false,
     "start_time": "2022-12-29T08:14:59.789847",
     "status": "completed"
    },
    "tags": []
   },
   "source": [
    "This model was just the basic model and it can be improved by doing hyperparameter tuning and making the encoder and decoder with DNN. \n",
    "The threshold was determined using a very simple method and it can be also changed for getting better and more accurate results. The criteria for determinig the threshold can make a lot of difference.\n",
    "\n",
    "# Accuracy 🎯 \n",
    "\n",
    "Out of **2359** Actual Shape of Prediction, **2240** were predicted correctly. \n",
    "This results in accuracy ≈ **94.96 %**\n"
   ]
  },
  {
   "cell_type": "code",
   "execution_count": 15,
   "id": "de18ff30",
   "metadata": {
    "execution": {
     "iopub.execute_input": "2022-12-29T08:14:59.834363Z",
     "iopub.status.busy": "2022-12-29T08:14:59.833117Z",
     "iopub.status.idle": "2022-12-29T08:14:59.847674Z",
     "shell.execute_reply": "2022-12-29T08:14:59.846626Z"
    },
    "papermill": {
     "duration": 0.031676,
     "end_time": "2022-12-29T08:14:59.849860",
     "exception": false,
     "start_time": "2022-12-29T08:14:59.818184",
     "status": "completed"
    },
    "tags": []
   },
   "outputs": [
    {
     "data": {
      "text/plain": [
       "<tf.Tensor: shape=(), dtype=int64, numpy=2240>"
      ]
     },
     "execution_count": 15,
     "metadata": {},
     "output_type": "execute_result"
    }
   ],
   "source": [
    "threshold = np.mean(train_loss) + 2*np.std(train_loss)\n",
    "preds = tf.math.less(train_loss, threshold)\n",
    "tf.math.count_nonzero(preds)"
   ]
  },
  {
   "cell_type": "code",
   "execution_count": 16,
   "id": "9860fb7f",
   "metadata": {
    "execution": {
     "iopub.execute_input": "2022-12-29T08:14:59.880106Z",
     "iopub.status.busy": "2022-12-29T08:14:59.878839Z",
     "iopub.status.idle": "2022-12-29T08:14:59.887479Z",
     "shell.execute_reply": "2022-12-29T08:14:59.886099Z"
    },
    "papermill": {
     "duration": 0.026669,
     "end_time": "2022-12-29T08:14:59.890263",
     "exception": false,
     "start_time": "2022-12-29T08:14:59.863594",
     "status": "completed"
    },
    "tags": []
   },
   "outputs": [
    {
     "data": {
      "text/plain": [
       "TensorShape([2359])"
      ]
     },
     "execution_count": 16,
     "metadata": {},
     "output_type": "execute_result"
    }
   ],
   "source": [
    "preds.shape"
   ]
  },
  {
   "cell_type": "code",
   "execution_count": 17,
   "id": "dfc14a8e",
   "metadata": {
    "execution": {
     "iopub.execute_input": "2022-12-29T08:14:59.921027Z",
     "iopub.status.busy": "2022-12-29T08:14:59.920279Z",
     "iopub.status.idle": "2022-12-29T08:14:59.926794Z",
     "shell.execute_reply": "2022-12-29T08:14:59.925489Z"
    },
    "papermill": {
     "duration": 0.025703,
     "end_time": "2022-12-29T08:14:59.929855",
     "exception": false,
     "start_time": "2022-12-29T08:14:59.904152",
     "status": "completed"
    },
    "tags": []
   },
   "outputs": [
    {
     "name": "stdout",
     "output_type": "stream",
     "text": [
      "Accuracy =  94.95548961424333 %\n"
     ]
    }
   ],
   "source": [
    "acc = 2240/2359*100\n",
    "print(\"Accuracy = \", acc, \"%\")"
   ]
  },
  {
   "cell_type": "markdown",
   "id": "78593eb8",
   "metadata": {
    "papermill": {
     "duration": 0.013452,
     "end_time": "2022-12-29T08:14:59.957539",
     "exception": false,
     "start_time": "2022-12-29T08:14:59.944087",
     "status": "completed"
    },
    "tags": []
   },
   "source": [
    "# Autoencoders: Applications\n",
    "\n",
    "<h4> Dimensionality Reduction</h4>\n",
    "<img src=\"https://miro.medium.com/max/828/1*phjqxD_E5dmhmxdnhSTmqg.webp\" height=65% width=65% style=\"margin-left:17.5%\">\n",
    "<h4> Feature Extraction</h4>\n",
    "<img src=\"https://miro.medium.com/max/828/1*pfnqLN-z0uBc3K4dzEHSlg.webp\" height=80% width=80% style=\"margin-left:10%\">\n",
    "<h4> Audio or Image Denoising</h4>\n",
    "<img src=\"https://miro.medium.com/max/816/0*GlQpchJiH9RDk85G.png\" height=80% width=80% style=\"margin-left:10%\">\n",
    "<img src=\"https://miro.medium.com/max/828/1*LXEdX7tSK-RmDFhjmpj3zg.webp\" height=80% width=80% style=\"margin-left:10%\">\n",
    "<h4> Image Compression</h4>\n",
    "<img src=\"https://miro.medium.com/max/640/1*v52X-MwUYLLnH3Ju2mHTRQ.webp\" height=60% width=60% style=\"margin-left:20%\">\n",
    "<h4> Image Search</h4>\n",
    "<img src=\"https://miro.medium.com/max/828/1*aT__p5mj1sB9Wae1dSGYUw.webp\" height=80% width=80% style=\"margin-left:10%\">\n",
    "<h4> Anomaly Detection</h4>\n",
    "<img src=\"https://raw.githubusercontent.com/DHI/tsod/main/images/anomaly.png\" height=60% width=60% style=\"margin-left:20%\">\n",
    "<h4> Missing Value Imputation</h4>\n",
    "<img src=\"https://miro.medium.com/max/828/1*wmd9qmzRNkhgpWlDnDCbAw.webp\" height=90% width=90% style=\"margin-left:5%\">\n",
    "\n",
    "<h4> Other Applications in Health Care, Aircraft Health Monitoring System, etc...</h4>\n",
    "\n",
    "<img src=\"https://mir-s3-cdn-cf.behance.net/project_modules/max_1200/e8b7b452504839.59139ae21aa61.gif\" height=60% width=60% style=\"margin-left:20%\">\n",
    "<img src=\"https://i0.wp.com/apijet.com/wp-content/uploads/2019/09/AllFinals_AHM.png?resize=414%2C735&ssl=1\" height=40% width=40% style=\"margin-left:30%\">\n",
    "<img src=\"https://i.pinimg.com/originals/7d/9b/1d/7d9b1d662b28cd365b33a01a3d0288e1.gif\" height=60% width=60% style=\"margin-left:20%\">"
   ]
  }
 ],
 "metadata": {
  "kernelspec": {
   "display_name": "Python 3",
   "language": "python",
   "name": "python3"
  },
  "language_info": {
   "codemirror_mode": {
    "name": "ipython",
    "version": 3
   },
   "file_extension": ".py",
   "mimetype": "text/x-python",
   "name": "python",
   "nbconvert_exporter": "python",
   "pygments_lexer": "ipython3",
   "version": "3.11.0 (main, Oct 24 2022, 18:26:48) [MSC v.1933 64 bit (AMD64)]"
  },
  "papermill": {
   "default_parameters": {},
   "duration": 25.200181,
   "end_time": "2022-12-29T08:15:02.750856",
   "environment_variables": {},
   "exception": null,
   "input_path": "__notebook__.ipynb",
   "output_path": "__notebook__.ipynb",
   "parameters": {},
   "start_time": "2022-12-29T08:14:37.550675",
   "version": "2.3.4"
  },
  "vscode": {
   "interpreter": {
    "hash": "c261aea317cc0286b3b3261fbba9abdec21eaa57589985bb7a274bf54d6cc0a7"
   }
  }
 },
 "nbformat": 4,
 "nbformat_minor": 5
}
